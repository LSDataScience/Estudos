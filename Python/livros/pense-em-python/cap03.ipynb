{
 "cells": [
  {
   "cell_type": "markdown",
   "id": "a92f7e61",
   "metadata": {},
   "source": [
    "## Notebook do Capítulo 3 do livro \"Pense em Python\" de Allen Downey - 2ª edição\n",
    "\n",
    "Este notebook documenta os estudos do Capítulo 3 do livro \"Pense em Python\".  \n",
    "O objetivo é aprender os conceitos básicos de programação em Python, incluindo a execução de programas simples, criação de funções e uso de comentários.\n"
   ]
  },
  {
   "cell_type": "markdown",
   "id": "3d994691",
   "metadata": {},
   "source": [
    "### Capítulo 3: Funções\n"
   ]
  },
  {
   "cell_type": "markdown",
   "id": "75b5fb29",
   "metadata": {},
   "source": [
    "##### 3.1 - Chamada de Funções\n",
    "O Python oferece funções que convertem valores de um tipo em outro. A função int recebe qualquer valor e o converte em um número inteiro, se for possível, ou declara que há um erro:"
   ]
  },
  {
   "cell_type": "code",
   "execution_count": 18,
   "id": "9a636757",
   "metadata": {},
   "outputs": [
    {
     "data": {
      "text/plain": [
       "32"
      ]
     },
     "execution_count": 18,
     "metadata": {},
     "output_type": "execute_result"
    }
   ],
   "source": [
    "int('32')"
   ]
  },
  {
   "cell_type": "code",
   "execution_count": 19,
   "id": "9175c036",
   "metadata": {},
   "outputs": [
    {
     "ename": "ValueError",
     "evalue": "invalid literal for int() with base 10: 'Hello'",
     "output_type": "error",
     "traceback": [
      "\u001b[31m---------------------------------------------------------------------------\u001b[39m",
      "\u001b[31mValueError\u001b[39m                                Traceback (most recent call last)",
      "\u001b[36mCell\u001b[39m\u001b[36m \u001b[39m\u001b[32mIn[19]\u001b[39m\u001b[32m, line 1\u001b[39m\n\u001b[32m----> \u001b[39m\u001b[32m1\u001b[39m \u001b[38;5;28;43mint\u001b[39;49m\u001b[43m(\u001b[49m\u001b[33;43m'\u001b[39;49m\u001b[33;43mHello\u001b[39;49m\u001b[33;43m'\u001b[39;49m\u001b[43m)\u001b[49m\n",
      "\u001b[31mValueError\u001b[39m: invalid literal for int() with base 10: 'Hello'"
     ]
    }
   ],
   "source": [
    "int('Hello')"
   ]
  },
  {
   "cell_type": "markdown",
   "id": "65346037",
   "metadata": {},
   "source": [
    "int pode converter valores de ponto flutuante em números inteiros, mas não faz arredondamentos; ela apenas corta a parte da fração:"
   ]
  },
  {
   "cell_type": "code",
   "execution_count": 20,
   "id": "c0e0b499",
   "metadata": {},
   "outputs": [
    {
     "data": {
      "text/plain": [
       "3"
      ]
     },
     "execution_count": 20,
     "metadata": {},
     "output_type": "execute_result"
    }
   ],
   "source": [
    "int(3.99999)\n"
   ]
  },
  {
   "cell_type": "code",
   "execution_count": 21,
   "id": "8daf0c7e",
   "metadata": {},
   "outputs": [
    {
     "data": {
      "text/plain": [
       "-2"
      ]
     },
     "execution_count": 21,
     "metadata": {},
     "output_type": "execute_result"
    }
   ],
   "source": [
    "int(-2.3)\n"
   ]
  },
  {
   "cell_type": "markdown",
   "id": "5fac34f0",
   "metadata": {},
   "source": [
    "float converte números inteiros e strings em números de ponto flutuante:"
   ]
  },
  {
   "cell_type": "code",
   "execution_count": 22,
   "id": "9a6e6880",
   "metadata": {},
   "outputs": [
    {
     "data": {
      "text/plain": [
       "32.0"
      ]
     },
     "execution_count": 22,
     "metadata": {},
     "output_type": "execute_result"
    }
   ],
   "source": [
    "float(32)"
   ]
  },
  {
   "cell_type": "code",
   "execution_count": 23,
   "id": "e9afadd3",
   "metadata": {},
   "outputs": [
    {
     "data": {
      "text/plain": [
       "3.14159"
      ]
     },
     "execution_count": 23,
     "metadata": {},
     "output_type": "execute_result"
    }
   ],
   "source": [
    "float('3.14159')\n"
   ]
  },
  {
   "cell_type": "markdown",
   "id": "550670d1",
   "metadata": {},
   "source": [
    "Finalmente, str converte o argumento em uma string:"
   ]
  },
  {
   "cell_type": "code",
   "execution_count": 24,
   "id": "1a95b7a1",
   "metadata": {},
   "outputs": [
    {
     "data": {
      "text/plain": [
       "'32'"
      ]
     },
     "execution_count": 24,
     "metadata": {},
     "output_type": "execute_result"
    }
   ],
   "source": [
    "str(32)"
   ]
  },
  {
   "cell_type": "code",
   "execution_count": 25,
   "id": "edf6dc7c",
   "metadata": {},
   "outputs": [
    {
     "data": {
      "text/plain": [
       "'3.14159'"
      ]
     },
     "execution_count": 25,
     "metadata": {},
     "output_type": "execute_result"
    }
   ],
   "source": [
    "str(3.14159)"
   ]
  },
  {
   "cell_type": "markdown",
   "id": "57bb8f45",
   "metadata": {},
   "source": [
    "##### 3.2 - Funções Matemáticas\n",
    "\n",
    "O Python"
   ]
  }
 ],
 "metadata": {
  "kernelspec": {
   "display_name": ".venv",
   "language": "python",
   "name": "python3"
  },
  "language_info": {
   "codemirror_mode": {
    "name": "ipython",
    "version": 3
   },
   "file_extension": ".py",
   "mimetype": "text/x-python",
   "name": "python",
   "nbconvert_exporter": "python",
   "pygments_lexer": "ipython3",
   "version": "3.12.3"
  }
 },
 "nbformat": 4,
 "nbformat_minor": 5
}
