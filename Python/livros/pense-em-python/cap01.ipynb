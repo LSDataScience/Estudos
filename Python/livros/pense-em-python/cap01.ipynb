{
 "cells": [
  {
   "cell_type": "markdown",
   "id": "dd9896e5",
   "metadata": {},
   "source": [
    "# Capítulo 1: Jornada do Programa\n",
    "\n",
    "Este notebook documenta os estudos do capítulo 1 do livro _Pense em Python_ de Allen Downey.\n",
    "\n",
    "## Objetivo do Capítulo\n",
    "\n",
    "Neste capítulo, você aprenderá:\n",
    "\n",
    "- Como executar um programa Python básico.\n",
    "- O uso de operadores aritméticos.\n",
    "- A diferença entre valores e tipos.\n",
    "- Como resolver exercícios práticos para consolidar o aprendizado.\n",
    "\n",
    "Este capítulo é fundamental para construir uma base sólida em Python, abordando conceitos essenciais que serão usados nos capítulos seguintes.\n"
   ]
  },
  {
   "cell_type": "markdown",
   "id": "0a05a816",
   "metadata": {},
   "source": [
    "## 1.3 - O Primeiro Programa\n",
    "\n",
    "O primeiro programa que todo iniciante aprende é o famoso \"Hello, World!\".\n",
    "Este exercício demonstra como imprimir uma mensagem simples na tela.\n"
   ]
  },
  {
   "cell_type": "code",
   "execution_count": null,
   "id": "33b53798",
   "metadata": {},
   "outputs": [],
   "source": [
    "# Exibindo a mensagem 'Hello, World!'\n",
    "print(\"Hello, World!\")\n"
   ]
  },
  {
   "cell_type": "markdown",
   "id": "b8944df1",
   "metadata": {},
   "source": [
    "### Explicação\n",
    "\n",
    "A função `print()` é usada para exibir mensagens na tela.\n",
    "Neste caso, estamos passando a string `'Hello, World!'` como argumento para a função,\n",
    "o que faz com que a mensagem seja exibida no console.\n"
   ]
  },
  {
   "cell_type": "markdown",
   "id": "c36c159b",
   "metadata": {},
   "source": [
    "## 1.4 - Operadores Aritméticos\n",
    "\n",
    "Os operadores aritméticos permitem realizar cálculos matemáticos básicos.\n",
    "Aqui estão alguns exemplos:\n"
   ]
  },
  {
   "cell_type": "code",
   "execution_count": null,
   "id": "144bcc71",
   "metadata": {},
   "outputs": [],
   "source": [
    "# Soma\n",
    "40 + 2\n"
   ]
  },
  {
   "cell_type": "code",
   "execution_count": null,
   "id": "971effc9",
   "metadata": {},
   "outputs": [],
   "source": [
    "# Subtração\n",
    "43 - 1\n"
   ]
  },
  {
   "cell_type": "code",
   "execution_count": null,
   "id": "3532bc15",
   "metadata": {},
   "outputs": [],
   "source": [
    "# Multiplicação\n",
    "6 * 7\n"
   ]
  },
  {
   "cell_type": "code",
   "execution_count": null,
   "id": "9c30c793",
   "metadata": {},
   "outputs": [],
   "source": [
    "# Divisão\n",
    "84 / 2\n"
   ]
  },
  {
   "cell_type": "markdown",
   "id": "632d43ac",
   "metadata": {},
   "source": [
    "## Explicação Detalhada: Operadores Aritméticos\n",
    "\n",
    "Os operadores aritméticos são usados para realizar cálculos matemáticos básicos.\n",
    "Eles incluem:\n",
    "\n",
    "- **Soma (+)**: Adiciona dois números.\n",
    "- **Subtração (-)**: Subtrai um número de outro.\n",
    "- **Multiplicação (\\*)**: Multiplica dois números.\n",
    "- **Divisão (/)**: Divide um número por outro.\n",
    "\n",
    "Esses operadores são fundamentais para resolver problemas matemáticos e realizar cálculos em programas Python.\n"
   ]
  },
  {
   "cell_type": "markdown",
   "id": "0d0bad24",
   "metadata": {},
   "source": [
    "## 1.5 - Valores e Tipos\n",
    "\n",
    "No Python, cada valor tem um tipo associado.\n",
    "Aqui estão alguns exemplos de tipos comuns:\n"
   ]
  },
  {
   "cell_type": "code",
   "execution_count": null,
   "id": "d75d97b6",
   "metadata": {},
   "outputs": [],
   "source": [
    "# Tipo de um número inteiro\n",
    "type(42)\n"
   ]
  },
  {
   "cell_type": "code",
   "execution_count": null,
   "id": "8719f048",
   "metadata": {},
   "outputs": [],
   "source": [
    "# Tipo de um número de ponto flutuante\n",
    "type(42.0)\n"
   ]
  },
  {
   "cell_type": "code",
   "execution_count": null,
   "id": "05d92362",
   "metadata": {},
   "outputs": [],
   "source": [
    "# Tipo de uma string\n",
    "type(\"Hello, World!\")\n"
   ]
  },
  {
   "cell_type": "markdown",
   "id": "415ed79d",
   "metadata": {},
   "source": [
    "## Explicação Detalhada: Valores e Tipos\n",
    "\n",
    "No Python, cada valor tem um tipo associado.\n",
    "Os tipos mais comuns incluem:\n",
    "\n",
    "- **Inteiros (int)**: Números inteiros, como 42 ou -3.\n",
    "- **Ponto Flutuante (float)**: Números com casas decimais, como 3.14 ou -0.001.\n",
    "- **Strings (str)**: Sequências de caracteres, como 'Hello, World!'.\n",
    "\n",
    "Conhecer os tipos de dados é importante porque eles determinam o que você pode fazer com um valor. Por exemplo, você pode somar dois inteiros, mas não pode somar um inteiro e uma string sem conversão.\n"
   ]
  },
  {
   "cell_type": "markdown",
   "id": "d8820a59",
   "metadata": {},
   "source": [
    "## 1.9 - Exercícios\n"
   ]
  },
  {
   "cell_type": "markdown",
   "id": "b83beb7b",
   "metadata": {},
   "source": [
    "### Exercício 1\n",
    "\n",
    "Quantos Segundos há em 42 minutos e 42 segundos?\n"
   ]
  },
  {
   "cell_type": "code",
   "execution_count": null,
   "id": "344a874b",
   "metadata": {},
   "outputs": [],
   "source": [
    "42 * 60 + 42  # Total de segundos em 42 minutos e 42 segundos\n"
   ]
  },
  {
   "cell_type": "markdown",
   "id": "1682a4b1",
   "metadata": {},
   "source": [
    "### Exercício 2\n",
    "\n",
    "Quantas milhas há em 10 km(1 milha = 1,61 km)\n"
   ]
  },
  {
   "cell_type": "code",
   "execution_count": null,
   "id": "3a670bce",
   "metadata": {},
   "outputs": [
    {
     "data": {
      "text/plain": [
       "6.211180124223602"
      ]
     },
     "execution_count": 23,
     "metadata": {},
     "output_type": "execute_result"
    }
   ],
   "source": [
    "10 / 1.61  # Total de milhas em 10 km\n"
   ]
  },
  {
   "cell_type": "markdown",
   "id": "9c5d0b1c",
   "metadata": {},
   "source": [
    "### Exercício 3\n",
    "\n",
    "Se você correr 10 km em 42 minutos e 42 segundos, qual é o seu passo médio (tempo por milha em minutos e segundos)? Qual é a sua velocidade média em milhas por hora?\n"
   ]
  },
  {
   "cell_type": "code",
   "execution_count": null,
   "id": "49b06756",
   "metadata": {},
   "outputs": [
    {
     "name": "stdout",
     "output_type": "stream",
     "text": [
      "Passo médio: 6 minutos e 52 segundos por milha.\n",
      "Velocidade média: 8.73 milhas por hora.\n"
     ]
    }
   ],
   "source": [
    "# Distância em quilômetros\n",
    "distancia_km = 10\n",
    "\n",
    "# Tempo total em segundos\n",
    "tempo_minutos = 42\n",
    "tempo_segundos = 42\n",
    "tempo_total_segundos = (tempo_minutos * 60) + tempo_segundos\n",
    "\n",
    "# Converter distância para milhas (1 milha = 1.61 km)\n",
    "distancia_milhas = distancia_km / 1.61\n",
    "\n",
    "# Calcular o passo médio (tempo por milha em segundos)\n",
    "passo_medio_segundos = tempo_total_segundos / distancia_milhas\n",
    "\n",
    "# Converter o passo médio para minutos e segundos\n",
    "passo_medio_minutos = int(passo_medio_segundos // 60)\n",
    "passo_medio_restante_segundos = int(passo_medio_segundos % 60)\n",
    "\n",
    "# Calcular a velocidade média em milhas por hora\n",
    "velocidade_media_mph = distancia_milhas / (tempo_total_segundos / 3600)\n",
    "\n",
    "# Exibir os resultados\n",
    "print(\n",
    "    f\"Passo médio: {passo_medio_minutos} minutos e {passo_medio_restante_segundos} segundos por milha.\"\n",
    ")\n",
    "print(f\"Velocidade média: {velocidade_media_mph:.2f} milhas por hora.\")\n"
   ]
  },
  {
   "cell_type": "markdown",
   "id": "5618fa94",
   "metadata": {},
   "source": [
    "## Resumo do Capítulo\n",
    "\n",
    "Neste capítulo, aprendemos:\n",
    "\n",
    "- Como executar um programa simples em Python usando `print()`.\n",
    "- O uso de operadores aritméticos para cálculos básicos.\n",
    "- A diferença entre valores e tipos no Python.\n",
    "- Como resolver exercícios práticos para consolidar o aprendizado.\n",
    "\n",
    "Esses conceitos são fundamentais para avançar nos próximos capítulos. Certifique-se de praticar os exercícios e revisar os exemplos para fixar o aprendizado.\n"
   ]
  }
 ],
 "metadata": {
  "kernelspec": {
   "display_name": "Python 3",
   "language": "python",
   "name": "python3"
  },
  "language_info": {
   "codemirror_mode": {
    "name": "ipython",
    "version": 3
   },
   "file_extension": ".py",
   "mimetype": "text/x-python",
   "name": "python",
   "nbconvert_exporter": "python",
   "pygments_lexer": "ipython3",
   "version": "3.13.6"
  }
 },
 "nbformat": 4,
 "nbformat_minor": 5
}
