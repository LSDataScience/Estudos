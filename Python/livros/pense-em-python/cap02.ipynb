{
 "cells": [
  {
   "cell_type": "markdown",
   "id": "a92f7e61",
   "metadata": {},
   "source": [
    "# Notebook do Capítulo 2 do livro \"Pense em Python\" de Allen Downey - 2ª edição\n",
    "\n",
    "Este notebook documenta os estudos do Capítulo 2 do livro \"Pense em Python\".  \n",
    "O objetivo é aprender os conceitos básicos de programação em Python, incluindo a execução de programas simples, criação de funções e uso de comentários.\n"
   ]
  },
  {
   "cell_type": "markdown",
   "id": "3d994691",
   "metadata": {},
   "source": [
    "# Capítulo 2: Variáveis, expressões e instruções\n",
    "\n",
    "Este notebook documenta os estudos do capítulo 2 do livro _Pense em Python_ de Allen Downey.\n"
   ]
  }
 ],
 "metadata": {
  "language_info": {
   "name": "python"
  }
 },
 "nbformat": 4,
 "nbformat_minor": 5
}
