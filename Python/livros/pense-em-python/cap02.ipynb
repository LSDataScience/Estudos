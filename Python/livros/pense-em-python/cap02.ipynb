{
 "cells": [
  {
   "cell_type": "markdown",
   "id": "a92f7e61",
   "metadata": {},
   "source": [
    "# Notebook do Capítulo 2 do livro \"Pense em Python\" de Allen Downey - 2ª edição\n",
    "\n",
    "Este notebook documenta os estudos do Capítulo 2 do livro \"Pense em Python\".  \n",
    "O objetivo é aprender os conceitos básicos de programação em Python, incluindo a execução de programas simples, criação de funções e uso de comentários.\n"
   ]
  },
  {
   "cell_type": "markdown",
   "id": "3d994691",
   "metadata": {},
   "source": [
    "## Capítulo 2: Variáveis, expressões e instruções\n",
    "\n",
    "Este notebook documenta os estudos do capítulo 2 do livro _Pense em Python_ de Allen Downey.\n"
   ]
  },
  {
   "cell_type": "markdown",
   "id": "f34821e5",
   "metadata": {},
   "source": [
    "### 2.10 Excercícios\n",
    "\n",
    "Pratique o uso interpretador do Python\n",
    "como uma calculadora:"
   ]
  },
  {
   "cell_type": "markdown",
   "id": "83ecd91b",
   "metadata": {},
   "source": [
    "1 - O volume de uma esfera com raio r é 3/4 pi r³. Qual é o volume de uma espera com raio 5.\n",
    "--3,14"
   ]
  },
  {
   "cell_type": "code",
   "execution_count": null,
   "id": "ddf38bc7",
   "metadata": {},
   "outputs": [],
   "source": [
    "# Exercício 1: Volume de uma esfera\n",
    "# Fórmula: V = (4/3) * pi * r**3\n",
    "# Onde pi ≈ 3.14159 e r = 5\n",
    "\n",
    "import math  # Importa a biblioteca matemática para usar o valor de pi\n",
    "\n",
    "raio = 5\n",
    "volume = (4/3) * math.pi * raio**3\n",
    "print(f'O volume da esfera de raio {raio} é {volume:.2f} unidades cúbicas.')\n",
    "\n",
    "# Explicação:\n",
    "# - math.pi fornece o valor mais preciso de pi.\n",
    "# - Usamos ** para calcular a potência (raio ao cubo).\n",
    "# - O resultado é arredondado para 2 casas decimais para facilitar a leitura."
   ]
  },
  {
   "cell_type": "markdown",
   "id": "0eca4305",
   "metadata": {},
   "source": [
    "2 - Suponha que o preço de capa de um livro seja R$ 24,95, mas as livrarias recebem um desconto de 40%. O transporte custa R$ 3,00 para o primeiro exemplar e 75 centavos para cada exemplar adicional. Qual é o custo total de atacado para 60 cópias?"
   ]
  },
  {
   "cell_type": "code",
   "execution_count": 2,
   "id": "6a6b60b6",
   "metadata": {},
   "outputs": [
    {
     "name": "stdout",
     "output_type": "stream",
     "text": [
      "Preço de capa: R$ 24.95\n",
      "Desconto: 40%\n",
      "Preço com desconto: R$ 14.97\n",
      "Quantidade de livros: 60\n",
      "Frete do primeiro exemplar: R$ 3.00\n",
      "Frete dos demais exemplares: R$ 44.25\n",
      "\n",
      "Custo total de atacado para 60 cópias: R$ 945.45\n"
     ]
    }
   ],
   "source": [
    "# Exercício 2: Custo total de atacado para 60 cópias de um livro\n",
    "# Preço de capa: R$ 24,95\n",
    "# Desconto para livrarias: 40%\n",
    "# Frete: R$ 3,00 para o primeiro exemplar, R$ 0,75 para cada exemplar adicional\n",
    "\n",
    "preco_capa = 24.95\n",
    "desconto = 0.40\n",
    "preco_descontado = preco_capa * (1 - desconto)\n",
    "quantidade = 60\n",
    "frete_primeiro = 3.00\n",
    "frete_adicional = 0.75 * (quantidade - 1)\n",
    "\n",
    "print(f'Preço de capa: R$ {preco_capa:.2f}')\n",
    "print(f'Desconto: {desconto*100:.0f}%')\n",
    "print(f'Preço com desconto: R$ {preco_descontado:.2f}')\n",
    "print(f'Quantidade de livros: {quantidade}')\n",
    "print(f'Frete do primeiro exemplar: R$ {frete_primeiro:.2f}')\n",
    "print(f'Frete dos demais exemplares: R$ {frete_adicional:.2f}')\n",
    "\n",
    "custo_total = preco_descontado * quantidade + frete_primeiro + frete_adicional\n",
    "print(f'\\nCusto total de atacado para {quantidade} cópias: R$ {custo_total:.2f}')\n",
    "\n",
    "# Explicação:\n",
    "# - Calculamos o preço com desconto multiplicando pelo fator (1 - desconto).\n",
    "# - O frete do primeiro exemplar é somado ao frete dos demais (quantidade - 1).\n",
    "# - O custo total é a soma do valor dos livros e do frete.\n",
    "# - Agora, cada etapa do cálculo é exibida detalhadamente."
   ]
  },
  {
   "cell_type": "markdown",
   "id": "ee79a514",
   "metadata": {},
   "source": [
    "3 - Se eu sair da minha casa ás 06:52 e correr 1 km a um certo passo (08min15s por km), então 3 km a passo mais rápido (7min12s por km) e  1 km no mesmo passo usado em primeiro, que horas chego em casa para o café da manhã?"
   ]
  },
  {
   "cell_type": "code",
   "execution_count": 3,
   "id": "395f3738",
   "metadata": {},
   "outputs": [
    {
     "name": "stdout",
     "output_type": "stream",
     "text": [
      "Você chega em casa às 07:30.\n"
     ]
    }
   ],
   "source": [
    "# Exercício 3: Horário de chegada após corrida com diferentes ritmos\n",
    "# Saída: 06:52\n",
    "# 1 km a 8min15s/km, 3 km a 7min12s/km, 1 km a 8min15s/km novamente\n",
    "\n",
    "# Convertendo horários para minutos\n",
    "hora_saida = 6 * 60 + 52  # 6h52 em minutos\n",
    "\n",
    "# Tempo dos trechos\n",
    "tempo_1km_lento = 8 + 15/60  # 8min15s em minutos decimais\n",
    "tempo_3km_rapido = 3 * (7 + 12/60)  # 3km a 7min12s/km\n",
    "tempo_total = 2 * tempo_1km_lento + tempo_3km_rapido\n",
    "\n",
    "# Horário de chegada em minutos\n",
    "hora_chegada = hora_saida + tempo_total\n",
    "\n",
    "# Convertendo para horas e minutos\n",
    "hora = int(hora_chegada // 60)\n",
    "minuto = int(hora_chegada % 60)\n",
    "\n",
    "print(f'Você chega em casa às {hora:02d}:{minuto:02d}.')\n",
    "\n",
    "# Explicação:\n",
    "# - Converti todos os tempos para minutos decimais para facilitar a soma.\n",
    "# - Somei o tempo de cada trecho ao horário de saída.\n",
    "# - Usei // para obter a hora inteira e % para os minutos restantes.\n",
    "# - O resultado mostra o horário final de chegada."
   ]
  }
 ],
 "metadata": {
  "kernelspec": {
   "display_name": ".venv",
   "language": "python",
   "name": "python3"
  },
  "language_info": {
   "codemirror_mode": {
    "name": "ipython",
    "version": 3
   },
   "file_extension": ".py",
   "mimetype": "text/x-python",
   "name": "python",
   "nbconvert_exporter": "python",
   "pygments_lexer": "ipython3",
   "version": "3.12.3"
  }
 },
 "nbformat": 4,
 "nbformat_minor": 5
}
