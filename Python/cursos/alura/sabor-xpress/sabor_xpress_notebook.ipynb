{
 "cells": [
  {
   "cell_type": "markdown",
   "id": "678889cb",
   "metadata": {},
   "source": [
    "# Projeto Sabor Xpress\n",
    "\n",
    "Este notebook documenta o projeto **Sabor Xpress**, desenvolvido para consolidar conhecimentos em Python, como manipulação de strings, listas, dicionários, modularização e tratamento de exceções.\n"
   ]
  },
  {
   "cell_type": "markdown",
   "id": "d4b99892",
   "metadata": {},
   "source": [
    "## Introdução\n",
    "\n",
    "O objetivo do projeto é criar uma aplicação que gerencie o cadastro de restaurantes, permitindo listar, cadastrar e alterar o estado (ativo/inativo) dos restaurantes.\n"
   ]
  },
  {
   "cell_type": "code",
   "execution_count": null,
   "id": "3523d021",
   "metadata": {},
   "outputs": [],
   "source": [
    "# Importação de bibliotecas necessárias\n",
    "import os\n"
   ]
  },
  {
   "cell_type": "markdown",
   "id": "aa9f2aa7",
   "metadata": {},
   "source": [
    "## Desenvolvimento\n",
    "\n",
    "Abaixo está o código principal do projeto, dividido em funções para modularização e clareza.\n"
   ]
  },
  {
   "cell_type": "code",
   "execution_count": null,
   "id": "9c76ede6",
   "metadata": {},
   "outputs": [],
   "source": [
    "# Função para exibir o nome do programa\n",
    "def exibir_nome_do_programa():\n",
    "    print(\"Sabor Xpress - Gerenciamento de Restaurantes\")\n"
   ]
  },
  {
   "cell_type": "code",
   "execution_count": null,
   "id": "a6c48af0",
   "metadata": {},
   "outputs": [],
   "source": [
    "# Função para listar restaurantes\n",
    "def listar_restaurantes(restaurantes):\n",
    "    for restaurante in restaurantes:\n",
    "        print(\n",
    "            f\"Nome: {restaurante['nome']}, Categoria: {restaurante['categoria']}, Ativo: {restaurante['ativo']}\"\n",
    "        )\n"
   ]
  },
  {
   "cell_type": "markdown",
   "id": "f80f869f",
   "metadata": {},
   "source": [
    "## Resumo e Aprendizados\n",
    "\n",
    "Durante o desenvolvimento deste projeto, foram aplicados conceitos fundamentais de Python, como manipulação de estruturas de dados, modularização e boas práticas de programação.\n"
   ]
  }
 ],
 "metadata": {
  "language_info": {
   "name": "python"
  }
 },
 "nbformat": 4,
 "nbformat_minor": 5
}
