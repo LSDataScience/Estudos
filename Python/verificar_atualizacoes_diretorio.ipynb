{
 "cells": [
  {
   "cell_type": "markdown",
   "id": "2c2bd1d7",
   "metadata": {},
   "source": [
    "# Verificar e Lidar com Atualizações no Escopo de um Diretório\n",
    "\n",
    "Este notebook tem como objetivo verificar e lidar com atualizações no escopo de um diretório. Ele será dividido em seções que abordam desde a importação de bibliotecas até a exibição e atualização do estado do diretório.\n"
   ]
  },
  {
   "cell_type": "markdown",
   "id": "f22172af",
   "metadata": {},
   "source": [
    "## Importar Bibliotecas Necessárias\n",
    "\n",
    "Importe bibliotecas como `os`, `pathlib` e outras necessárias para manipulação de diretórios.\n"
   ]
  },
  {
   "cell_type": "code",
   "execution_count": null,
   "id": "33e0ba04",
   "metadata": {},
   "outputs": [],
   "source": [
    "# Importar bibliotecas necessárias\n",
    "import os\n",
    "from pathlib import Path\n",
    "import json  # Para salvar e carregar o estado do diretório\n"
   ]
  },
  {
   "cell_type": "markdown",
   "id": "23df8731",
   "metadata": {},
   "source": [
    "## Verificar o Escopo Atual do Diretório\n",
    "\n",
    "Liste os arquivos e subdiretórios no diretório atual usando métodos como `os.listdir()` ou `pathlib.Path()`.\n"
   ]
  },
  {
   "cell_type": "code",
   "execution_count": null,
   "id": "bd39d3f4",
   "metadata": {},
   "outputs": [
    {
     "name": "stdout",
     "output_type": "stream",
     "text": [
      "Escopo Atual do Diretório: {'arquivos': ['.gitignore', 'README.md', 'verificar_atualizacoes_diretorio.ipynb'], 'subdiretorios': ['projetos', 'sabor-xpress']}\n"
     ]
    }
   ],
   "source": [
    "# Função para listar o escopo atual do diretório\n",
    "def listar_escopo_diretorio(diretorio):\n",
    "    \"\"\"\n",
    "    Lista os arquivos e subdiretórios no diretório especificado.\n",
    "\n",
    "    Args:\n",
    "        diretorio (str): Caminho do diretório a ser listado.\n",
    "\n",
    "    Returns:\n",
    "        dict: Dicionário contendo arquivos e subdiretórios.\n",
    "    \"\"\"\n",
    "    caminho = Path(diretorio)\n",
    "    escopo = {\n",
    "        \"arquivos\": [\n",
    "            str(arquivo) for arquivo in caminho.iterdir() if arquivo.is_file()\n",
    "        ],\n",
    "        \"subdiretorios\": [\n",
    "            str(subdir) for subdir in caminho.iterdir() if subdir.is_dir()\n",
    "        ],\n",
    "    }\n",
    "    return escopo\n",
    "\n",
    "\n",
    "# Exemplo de uso\n",
    "diretorio_atual = \".\"\n",
    "escopo_atual = listar_escopo_diretorio(diretorio_atual)\n",
    "print(\"Escopo Atual do Diretório:\", escopo_atual)\n"
   ]
  },
  {
   "cell_type": "markdown",
   "id": "3df27779",
   "metadata": {},
   "source": [
    "## Detectar Atualizações no Diretório\n",
    "\n",
    "Implemente uma lógica para comparar o estado atual do diretório com um estado anterior salvo, identificando mudanças.\n"
   ]
  },
  {
   "cell_type": "code",
   "execution_count": null,
   "id": "0738b016",
   "metadata": {},
   "outputs": [
    {
     "name": "stdout",
     "output_type": "stream",
     "text": [
      "Alterações Detectadas: {'novos_arquivos': ['README.md', 'verificar_atualizacoes_diretorio.ipynb', '.gitignore'], 'arquivos_removidos': [], 'novos_subdiretorios': ['projetos', 'sabor-xpress'], 'subdiretorios_removidos': []}\n"
     ]
    }
   ],
   "source": [
    "# Função para detectar atualizações no diretório\n",
    "def detectar_atualizacoes(estado_anterior, estado_atual):\n",
    "    \"\"\"\n",
    "    Detecta atualizações no diretório comparando o estado anterior com o atual.\n",
    "\n",
    "    Args:\n",
    "        estado_anterior (dict): Estado salvo anteriormente do diretório.\n",
    "        estado_atual (dict): Estado atual do diretório.\n",
    "\n",
    "    Returns:\n",
    "        dict: Alterações detectadas (novos, removidos, modificados).\n",
    "    \"\"\"\n",
    "    alteracoes = {\n",
    "        \"novos_arquivos\": list(\n",
    "            set(estado_atual[\"arquivos\"]) - set(estado_anterior[\"arquivos\"])\n",
    "        ),\n",
    "        \"arquivos_removidos\": list(\n",
    "            set(estado_anterior[\"arquivos\"]) - set(estado_atual[\"arquivos\"])\n",
    "        ),\n",
    "        \"novos_subdiretorios\": list(\n",
    "            set(estado_atual[\"subdiretorios\"]) - set(estado_anterior[\"subdiretorios\"])\n",
    "        ),\n",
    "        \"subdiretorios_removidos\": list(\n",
    "            set(estado_anterior[\"subdiretorios\"]) - set(estado_atual[\"subdiretorios\"])\n",
    "        ),\n",
    "    }\n",
    "    return alteracoes\n",
    "\n",
    "\n",
    "# Exemplo de uso\n",
    "estado_anterior = {\"arquivos\": [], \"subdiretorios\": []}  # Estado inicial vazio\n",
    "alteracoes = detectar_atualizacoes(estado_anterior, escopo_atual)\n",
    "print(\"Alterações Detectadas:\", alteracoes)\n"
   ]
  },
  {
   "cell_type": "markdown",
   "id": "6a60ce30",
   "metadata": {},
   "source": [
    "## Exibir Alterações Identificadas\n",
    "\n",
    "Mostre as alterações detectadas, como novos arquivos, arquivos removidos ou modificados.\n"
   ]
  },
  {
   "cell_type": "code",
   "execution_count": null,
   "id": "6e254a08",
   "metadata": {},
   "outputs": [
    {
     "name": "stdout",
     "output_type": "stream",
     "text": [
      "Novos Arquivos: ['README.md', 'verificar_atualizacoes_diretorio.ipynb', '.gitignore']\n",
      "Arquivos Removidos: []\n",
      "Novos Subdiretórios: ['projetos', 'sabor-xpress']\n",
      "Subdiretórios Removidos: []\n"
     ]
    }
   ],
   "source": [
    "# Exibir alterações detectadas\n",
    "def exibir_alteracoes(alteracoes):\n",
    "    \"\"\"\n",
    "    Exibe as alterações detectadas no diretório.\n",
    "\n",
    "    Args:\n",
    "        alteracoes (dict): Dicionário contendo as alterações detectadas.\n",
    "    \"\"\"\n",
    "    print(\"Novos Arquivos:\", alteracoes[\"novos_arquivos\"])\n",
    "    print(\"Arquivos Removidos:\", alteracoes[\"arquivos_removidos\"])\n",
    "    print(\"Novos Subdiretórios:\", alteracoes[\"novos_subdiretorios\"])\n",
    "    print(\"Subdiretórios Removidos:\", alteracoes[\"subdiretorios_removidos\"])\n",
    "\n",
    "\n",
    "# Exemplo de uso\n",
    "exibir_alteracoes(alteracoes)\n"
   ]
  },
  {
   "cell_type": "markdown",
   "id": "381ac53c",
   "metadata": {},
   "source": [
    "## Atualizar o Escopo do Diretório\n",
    "\n",
    "Atualize o estado salvo do diretório para refletir as mudanças mais recentes.\n"
   ]
  },
  {
   "cell_type": "code",
   "execution_count": null,
   "id": "59f05ad4",
   "metadata": {},
   "outputs": [
    {
     "name": "stdout",
     "output_type": "stream",
     "text": [
      "Estado do diretório salvo em 'estado_diretorio.json'.\n"
     ]
    }
   ],
   "source": [
    "# Função para salvar o estado atual do diretório\n",
    "def salvar_estado_diretorio(estado, arquivo_estado=\"estado_diretorio.json\"):\n",
    "    \"\"\"\n",
    "    Salva o estado atual do diretório em um arquivo JSON.\n",
    "\n",
    "    Args:\n",
    "        estado (dict): Estado atual do diretório.\n",
    "        arquivo_estado (str): Nome do arquivo onde o estado será salvo.\n",
    "    \"\"\"\n",
    "    with open(arquivo_estado, \"w\") as arquivo:\n",
    "        json.dump(estado, arquivo, indent=4)\n",
    "\n",
    "\n",
    "# Atualizar o estado salvo\n",
    "salvar_estado_diretorio(escopo_atual)\n",
    "print(f\"Estado do diretório salvo em 'estado_diretorio.json'.\")\n"
   ]
  }
 ],
 "metadata": {
  "kernelspec": {
   "display_name": "Python 3",
   "language": "python",
   "name": "python3"
  },
  "language_info": {
   "codemirror_mode": {
    "name": "ipython",
    "version": 3
   },
   "file_extension": ".py",
   "mimetype": "text/x-python",
   "name": "python",
   "nbconvert_exporter": "python",
   "pygments_lexer": "ipython3",
   "version": "3.13.6"
  }
 },
 "nbformat": 4,
 "nbformat_minor": 5
}
